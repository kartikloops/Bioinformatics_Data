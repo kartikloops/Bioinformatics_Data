{
 "cells": [
  {
   "cell_type": "code",
   "execution_count": null,
   "metadata": {},
   "outputs": [],
   "source": [
    "import requests\n",
    "from bs4 import BeautifulSoup\n",
    "import json\n",
    "\n",
    "# Initialize a list to store the data\n",
    "data = []\n",
    "\n",
    "# Loop through all pages\n",
    "for each_page in range(1, 2404):\n",
    "    print(f\"Processing page {each_page}...\")\n",
    "    url = f'https://www.biostars.org/?page={each_page}'\n",
    "    req = requests.get(url)\n",
    "    \n",
    "    # Check if the request is successful\n",
    "    if req.status_code != 200:\n",
    "        print(f\"Failed to fetch page {each_page}, status code: {req.status_code}\")\n",
    "        continue\n",
    "    \n",
    "    # Parse the HTML\n",
    "    soup = BeautifulSoup(req.text, 'html.parser')\n",
    "    \n",
    "    # Find all posts\n",
    "    for each_post in soup.find_all('div', class_='title mini header'):\n",
    "        # Extract the title\n",
    "        title = each_post.text.split(':', 1)[-1].strip()\n",
    "        \n",
    "        # Extract the <a> tag and href\n",
    "        a_tag = each_post.find('a')\n",
    "        if a_tag:\n",
    "            href = a_tag.get('href')\n",
    "            post_id = href.split('/')[-2]  # Extract the ID from the href\n",
    "            \n",
    "            # Append to data\n",
    "            data.append({\n",
    "                \"id\": post_id,\n",
    "                \"title\": title\n",
    "            })\n",
    "\n",
    "# Save data to a JSON file\n",
    "with open('biostars_data.json', 'w') as json_file:\n",
    "    json.dump(data, json_file, indent=4)\n",
    "\n",
    "print(\"Data collection completed and saved to biostars_data.json.\")\n"
   ]
  }
 ],
 "metadata": {
  "kernelspec": {
   "display_name": "Python 3",
   "language": "python",
   "name": "python3"
  },
  "language_info": {
   "name": "python",
   "version": "3.9.6"
  }
 },
 "nbformat": 4,
 "nbformat_minor": 2
}
